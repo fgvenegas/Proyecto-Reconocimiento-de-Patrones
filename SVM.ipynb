{
 "cells": [
  {
   "cell_type": "code",
   "execution_count": 7,
   "metadata": {},
   "outputs": [],
   "source": [
    "import os\n",
    "import numpy as np\n",
    "import matplotlib.pyplot as plt\n",
    "\n",
    "from sklearn.svm import SVC\n",
    "from sklearn.neural_network import MLPClassifier\n",
    "from sklearn.metrics import classification_report"
   ]
  },
  {
   "cell_type": "code",
   "execution_count": 2,
   "metadata": {},
   "outputs": [],
   "source": [
    "def merge(young, old, examples=10):\n",
    "    X = []\n",
    "    y = []\n",
    "    \n",
    "    for i in range(young.shape[0]):\n",
    "        for j in range(examples):\n",
    "            feat = np.hstack((young[i], old[(i+j)%young.shape[0]]))\n",
    "            X.append(feat)\n",
    "            if i == (i+j)%young.shape[0]:\n",
    "                y.append(1)\n",
    "            else:\n",
    "                y.append(0)\n",
    "    return np.asarray(X), np.asarray(y)"
   ]
  },
  {
   "cell_type": "code",
   "execution_count": 3,
   "metadata": {},
   "outputs": [],
   "source": [
    "train_young = np.load(\"train_y.npy\")\n",
    "train_old = np.load(\"train_o.npy\")\n",
    "\n",
    "val_young = np.load(\"val_y.npy\")\n",
    "val_old = np.load(\"val_o.npy\")\n",
    "\n",
    "test_young = np.load(\"test_y.npy\")\n",
    "test_old = np.load(\"test_o.npy\")\n",
    "\n",
    "train_young = np.concatenate((train_young, val_young))\n",
    "train_old = np.concatenate((train_old, val_old))"
   ]
  },
  {
   "cell_type": "code",
   "execution_count": 14,
   "metadata": {},
   "outputs": [],
   "source": [
    "Xtrain, ytrain = merge(train_young, train_old, examples=2)\n",
    "Xtest, ytest = merge(test_young, test_old, examples=2)"
   ]
  },
  {
   "cell_type": "code",
   "execution_count": 27,
   "metadata": {},
   "outputs": [
    {
     "name": "stdout",
     "output_type": "stream",
     "text": [
      "0.690677966101695\n"
     ]
    }
   ],
   "source": [
    "svm = SVC(gamma=0.1, kernel='rbf', C=10, class_weight=\"balanced\")\n",
    "\n",
    "    \n",
    "svm.fit(Xtrain, ytrain)\n",
    "print(svm.score(Xtest, ytest))"
   ]
  },
  {
   "cell_type": "code",
   "execution_count": 28,
   "metadata": {},
   "outputs": [
    {
     "name": "stdout",
     "output_type": "stream",
     "text": [
      "              precision    recall  f1-score   support\n",
      "\n",
      "           0       0.76      0.55      0.64       472\n",
      "           1       0.65      0.83      0.73       472\n",
      "\n",
      "   micro avg       0.69      0.69      0.69       944\n",
      "   macro avg       0.71      0.69      0.68       944\n",
      "weighted avg       0.71      0.69      0.68       944\n",
      "\n"
     ]
    }
   ],
   "source": [
    "ypred = svm.predict(Xtest)\n",
    "print(classification_report(ytest, ypred))"
   ]
  },
  {
   "cell_type": "code",
   "execution_count": null,
   "metadata": {},
   "outputs": [],
   "source": []
  },
  {
   "cell_type": "code",
   "execution_count": 15,
   "metadata": {},
   "outputs": [
    {
     "name": "stdout",
     "output_type": "stream",
     "text": [
      "0.6663135593220338\n"
     ]
    }
   ],
   "source": [
    "mlp = MLPClassifier(solver='lbfgs', hidden_layer_sizes=(200, 100, 50), learning_rate_init=0.01)\n",
    "mlp.fit(Xtrain, ytrain)\n",
    "print(mlp.score(Xtest, ytest))"
   ]
  },
  {
   "cell_type": "code",
   "execution_count": 16,
   "metadata": {},
   "outputs": [
    {
     "name": "stdout",
     "output_type": "stream",
     "text": [
      "              precision    recall  f1-score   support\n",
      "\n",
      "           0       0.68      0.62      0.65       472\n",
      "           1       0.65      0.71      0.68       472\n",
      "\n",
      "   micro avg       0.67      0.67      0.67       944\n",
      "   macro avg       0.67      0.67      0.67       944\n",
      "weighted avg       0.67      0.67      0.67       944\n",
      "\n"
     ]
    }
   ],
   "source": [
    "ypred = mlp.predict(Xtest)\n",
    "print(classification_report(ytest, ypred))"
   ]
  },
  {
   "cell_type": "code",
   "execution_count": null,
   "metadata": {},
   "outputs": [],
   "source": []
  }
 ],
 "metadata": {
  "kernelspec": {
   "display_name": "Python 3",
   "language": "python",
   "name": "python3"
  },
  "language_info": {
   "codemirror_mode": {
    "name": "ipython",
    "version": 3
   },
   "file_extension": ".py",
   "mimetype": "text/x-python",
   "name": "python",
   "nbconvert_exporter": "python",
   "pygments_lexer": "ipython3",
   "version": "3.6.8"
  }
 },
 "nbformat": 4,
 "nbformat_minor": 2
}
