{
  "nbformat": 4,
  "nbformat_minor": 0,
  "metadata": {
    "colab": {
      "name": "proyecto.ipynb",
      "version": "0.3.2",
      "provenance": [],
      "collapsed_sections": []
    },
    "kernelspec": {
      "name": "python3",
      "display_name": "Python 3"
    },
    "accelerator": "GPU"
  },
  "cells": [
    {
      "cell_type": "code",
      "metadata": {
        "id": "mPdQmK-z2mVD",
        "colab_type": "code",
        "outputId": "8377c816-9010-40c0-b8a2-ea44fbbdb01a",
        "colab": {
          "base_uri": "https://localhost:8080/",
          "height": 33
        }
      },
      "source": [
        "from google.colab import drive\n",
        "drive.mount('/content/drive')"
      ],
      "execution_count": 1,
      "outputs": [
        {
          "output_type": "stream",
          "text": [
            "Drive already mounted at /content/drive; to attempt to forcibly remount, call drive.mount(\"/content/drive\", force_remount=True).\n"
          ],
          "name": "stdout"
        }
      ]
    },
    {
      "cell_type": "code",
      "metadata": {
        "id": "Rjwx_i8q2piA",
        "colab_type": "code",
        "outputId": "ef60374f-c467-4b07-9259-7db2b14f8a06",
        "colab": {
          "base_uri": "https://localhost:8080/",
          "height": 66
        }
      },
      "source": [
        "!ls drive/My\\ Drive/proyecto_patrones/"
      ],
      "execution_count": 2,
      "outputs": [
        {
          "output_type": "stream",
          "text": [
            "denoised_testing   MetaData.npy    testing\t      training_split.zip\n",
            "denoised_training  proyecto.ipynb  testing_split.zip  Untitled0.ipynb\n",
            "MetaData.mat\t   readme.txt\t   training\n"
          ],
          "name": "stdout"
        }
      ]
    },
    {
      "cell_type": "code",
      "metadata": {
        "id": "A-ZzMhGy2sUh",
        "colab_type": "code",
        "colab": {}
      },
      "source": [
        "!unzip drive/My\\ Drive/proyecto_patrones/training_split"
      ],
      "execution_count": 0,
      "outputs": []
    },
    {
      "cell_type": "code",
      "metadata": {
        "id": "LkOGH--cZItG",
        "colab_type": "code",
        "colab": {}
      },
      "source": [
        "!pip3 install pybalu"
      ],
      "execution_count": 0,
      "outputs": []
    },
    {
      "cell_type": "code",
      "metadata": {
        "id": "e5kOFbDg28F7",
        "colab_type": "code",
        "outputId": "1a134043-c3bc-469c-8c12-4a3c3f9b2e24",
        "colab": {
          "base_uri": "https://localhost:8080/",
          "height": 33
        }
      },
      "source": [
        "from keras.models import Sequential, Model\n",
        "from keras.layers import Dense, Activation, Conv2D, Input, Dropout, Flatten, BatchNormalization, Activation, ZeroPadding2D\n",
        "from keras.layers.advanced_activations import LeakyReLU\n",
        "from pybalu.feature_transformation import pca, normalize\n",
        "from sklearn.model_selection import train_test_split \n",
        "from sklearn.svm import SVC\n",
        "from sklearn.neural_network import MLPClassifier\n",
        "from sklearn.metrics import classification_report\n",
        "from keras.applications.resnet50 import ResNet50\n",
        "from keras.applications.vgg16 import VGG16\n",
        "from sklearn.preprocessing import MinMaxScaler\n",
        "\n",
        "import os\n",
        "import numpy as np\n",
        "import cv2\n",
        "from google.colab.patches import cv2_imshow"
      ],
      "execution_count": 2,
      "outputs": [
        {
          "output_type": "stream",
          "text": [
            "Using TensorFlow backend.\n"
          ],
          "name": "stderr"
        }
      ]
    },
    {
      "cell_type": "markdown",
      "metadata": {
        "id": "isEs6DTO26xe",
        "colab_type": "text"
      },
      "source": [
        "# Data"
      ]
    },
    {
      "cell_type": "code",
      "metadata": {
        "id": "QFAzVNb83Hv4",
        "colab_type": "code",
        "colab": {}
      },
      "source": [
        "def load_data(path, imgs):\n",
        "  data = []\n",
        "  for img in imgs:\n",
        "    img_loaded = cv2.imread(path + '/' + img)\n",
        "    img_loaded = cv2.resize(img_loaded, (224, 224))\n",
        "    data.append(img_loaded)\n",
        "  data = np.array(data)\n",
        "  return data\n",
        "\n",
        "\n",
        "\n",
        "\n",
        "def flip_img(imgs):\n",
        "  flipped = []\n",
        "  for img in imgs:\n",
        "    flipped.append(img[:, ::-1])\n",
        "  flipped = np.array(flipped)\n",
        "  \n",
        "  return np.vstack((imgs, flipped))"
      ],
      "execution_count": 0,
      "outputs": []
    },
    {
      "cell_type": "code",
      "metadata": {
        "id": "a1QtEGEuDWlG",
        "colab_type": "code",
        "colab": {}
      },
      "source": [
        "def build_dataset(pos_X, neg_X):\n",
        "  pos_neg_X = np.vstack((pos_X, neg_X))\n",
        "  X = []\n",
        "  for img in range(0, len(pos_neg_X), 2):\n",
        "    X.append(np.array([pos_neg_X[img], pos_neg_X[img + 1]]))\n",
        "  X = np.array(X)\n",
        "  return X\n",
        "\n",
        "def extract_features(X, model):\n",
        "  old = X[:, 0, :, :]\n",
        "  new = X[:, 1, :, :]\n",
        "\n",
        "  features_old = model.predict(old, verbose=1, batch_size=256)\n",
        "  features_new = model.predict(new, verbose=1, batch_size=256)\n",
        "  \n",
        "  return features_old, features_new\n",
        "\n",
        "def pca_transform(features_new, features_old):\n",
        "  X_new_pca, _, A_new, Xm_new, _ = pca(features_new, n_components=10)\n",
        "  X_old_pca, _, A_old, Xm_old, _ = pca(features_old, n_components=10)\n",
        "  \n",
        "  return X_new_pca, A_new, Xm_new, X_old_pca, A_old, Xm_old"
      ],
      "execution_count": 0,
      "outputs": []
    },
    {
      "cell_type": "code",
      "metadata": {
        "id": "jhsj28-v3I0y",
        "colab_type": "code",
        "colab": {}
      },
      "source": [
        "pos_imgs = os.listdir('training_split/pos')\n",
        "pos_imgs.sort()\n",
        "\n",
        "neg_imgs = os.listdir('training_split/neg')\n",
        "neg_imgs.sort()\n",
        "\n",
        "pos_X = load_data('training_split/pos', pos_imgs)\n",
        "neg_X = load_data('training_split/neg', neg_imgs)\n",
        "\n",
        "\n",
        "y_pos = np.array([1] * (pos_X.shape[0]))\n",
        "y_neg = np.array([0] * (neg_X.shape[0]))"
      ],
      "execution_count": 0,
      "outputs": []
    },
    {
      "cell_type": "code",
      "metadata": {
        "id": "0lQkaLDMEfMp",
        "colab_type": "code",
        "colab": {}
      },
      "source": [
        "X_train_pos, X_val_pos, y_train_pos, y_val_pos = train_test_split(pos_X, y_pos, test_size=0.1, shuffle=True)\n",
        "X_train_neg, X_val_neg, y_train_neg, y_val_neg = train_test_split(neg_X, y_neg, test_size=0.1, shuffle=True)"
      ],
      "execution_count": 0,
      "outputs": []
    },
    {
      "cell_type": "code",
      "metadata": {
        "id": "d__cyb_YMg5x",
        "colab_type": "code",
        "colab": {}
      },
      "source": [
        "X_train_pos = flip_img(X_train_pos)\n",
        "X_train_neg = flip_img(X_train_neg)"
      ],
      "execution_count": 0,
      "outputs": []
    },
    {
      "cell_type": "code",
      "metadata": {
        "id": "wrSvF4mZFOlP",
        "colab_type": "code",
        "outputId": "d09ca8be-a030-4639-fc15-3ec2356482b5",
        "colab": {
          "base_uri": "https://localhost:8080/",
          "height": 33
        }
      },
      "source": [
        "X_train = build_dataset(X_train_pos, X_train_neg)\n",
        "X_val = build_dataset(X_val_pos, X_val_neg)\n",
        "\n",
        "X_train.shape, X_val.shape"
      ],
      "execution_count": 8,
      "outputs": [
        {
          "output_type": "execute_result",
          "data": {
            "text/plain": [
              "((6300, 2, 224, 224, 3), (350, 2, 224, 224, 3))"
            ]
          },
          "metadata": {
            "tags": []
          },
          "execution_count": 8
        }
      ]
    },
    {
      "cell_type": "markdown",
      "metadata": {
        "id": "cmB98dnd3cNx",
        "colab_type": "text"
      },
      "source": [
        "# Feature"
      ]
    },
    {
      "cell_type": "code",
      "metadata": {
        "id": "ufyFG7lMZWc1",
        "colab_type": "code",
        "colab": {
          "base_uri": "https://localhost:8080/",
          "height": 310
        },
        "outputId": "befc96c1-5453-40f6-f57c-bdbeaf04a905"
      },
      "source": [
        "!pip install git+https://github.com/rcmalli/keras-vggface.git"
      ],
      "execution_count": 9,
      "outputs": [
        {
          "output_type": "stream",
          "text": [
            "Collecting git+https://github.com/rcmalli/keras-vggface.git\n",
            "  Cloning https://github.com/rcmalli/keras-vggface.git to /tmp/pip-req-build-c1l6dmwg\n",
            "  Running command git clone -q https://github.com/rcmalli/keras-vggface.git /tmp/pip-req-build-c1l6dmwg\n",
            "Requirement already satisfied (use --upgrade to upgrade): keras-vggface==0.5 from git+https://github.com/rcmalli/keras-vggface.git in /usr/local/lib/python3.6/dist-packages\n",
            "Requirement already satisfied: numpy>=1.9.1 in /usr/local/lib/python3.6/dist-packages (from keras-vggface==0.5) (1.16.4)\n",
            "Requirement already satisfied: scipy>=0.14 in /usr/local/lib/python3.6/dist-packages (from keras-vggface==0.5) (1.3.0)\n",
            "Requirement already satisfied: h5py in /usr/local/lib/python3.6/dist-packages (from keras-vggface==0.5) (2.8.0)\n",
            "Requirement already satisfied: pillow in /usr/local/lib/python3.6/dist-packages (from keras-vggface==0.5) (4.3.0)\n",
            "Requirement already satisfied: keras in /usr/local/lib/python3.6/dist-packages (from keras-vggface==0.5) (2.2.4)\n",
            "Requirement already satisfied: six>=1.9.0 in /usr/local/lib/python3.6/dist-packages (from keras-vggface==0.5) (1.12.0)\n",
            "Requirement already satisfied: pyyaml in /usr/local/lib/python3.6/dist-packages (from keras-vggface==0.5) (3.13)\n",
            "Requirement already satisfied: olefile in /usr/local/lib/python3.6/dist-packages (from pillow->keras-vggface==0.5) (0.46)\n",
            "Requirement already satisfied: keras-applications>=1.0.6 in /usr/local/lib/python3.6/dist-packages (from keras->keras-vggface==0.5) (1.0.8)\n",
            "Requirement already satisfied: keras-preprocessing>=1.0.5 in /usr/local/lib/python3.6/dist-packages (from keras->keras-vggface==0.5) (1.1.0)\n",
            "Building wheels for collected packages: keras-vggface\n",
            "  Building wheel for keras-vggface (setup.py) ... \u001b[?25l\u001b[?25hdone\n",
            "  Stored in directory: /tmp/pip-ephem-wheel-cache-5y5mkfo7/wheels/36/07/46/06c25ce8e9cd396dabe151ea1d8a2bc28dafcb11321c1f3a6d\n",
            "Successfully built keras-vggface\n"
          ],
          "name": "stdout"
        }
      ]
    },
    {
      "cell_type": "code",
      "metadata": {
        "id": "SjnvfsjJNnzM",
        "colab_type": "code",
        "outputId": "b4365fa5-45ca-4239-b656-1e4f293f2ab2",
        "colab": {
          "base_uri": "https://localhost:8080/",
          "height": 248
        }
      },
      "source": [
        "from keras_vggface.vggface import VGGFace\n",
        "\n",
        "layer_name_vggface = 'fc7'\n",
        "\n",
        "vgg_model = VGGFace(input_shape=(224, 224, 3))\n",
        "out = vgg_model.get_layer(layer_name_vggface).output\n",
        "vgg_model_new = Model(vgg_model.input, out)"
      ],
      "execution_count": 10,
      "outputs": [
        {
          "output_type": "stream",
          "text": [
            "WARNING: Logging before flag parsing goes to stderr.\n",
            "W0618 04:42:50.461607 139622190286720 deprecation_wrapper.py:119] From /usr/local/lib/python3.6/dist-packages/keras/backend/tensorflow_backend.py:74: The name tf.get_default_graph is deprecated. Please use tf.compat.v1.get_default_graph instead.\n",
            "\n",
            "W0618 04:42:50.475412 139622190286720 deprecation_wrapper.py:119] From /usr/local/lib/python3.6/dist-packages/keras/backend/tensorflow_backend.py:517: The name tf.placeholder is deprecated. Please use tf.compat.v1.placeholder instead.\n",
            "\n",
            "W0618 04:42:50.480860 139622190286720 deprecation_wrapper.py:119] From /usr/local/lib/python3.6/dist-packages/keras/backend/tensorflow_backend.py:4138: The name tf.random_uniform is deprecated. Please use tf.random.uniform instead.\n",
            "\n",
            "W0618 04:42:50.507045 139622190286720 deprecation_wrapper.py:119] From /usr/local/lib/python3.6/dist-packages/keras/backend/tensorflow_backend.py:3976: The name tf.nn.max_pool is deprecated. Please use tf.nn.max_pool2d instead.\n",
            "\n",
            "W0618 04:42:51.281311 139622190286720 deprecation_wrapper.py:119] From /usr/local/lib/python3.6/dist-packages/keras/backend/tensorflow_backend.py:174: The name tf.get_default_session is deprecated. Please use tf.compat.v1.get_default_session instead.\n",
            "\n",
            "W0618 04:42:51.282428 139622190286720 deprecation_wrapper.py:119] From /usr/local/lib/python3.6/dist-packages/keras/backend/tensorflow_backend.py:181: The name tf.ConfigProto is deprecated. Please use tf.compat.v1.ConfigProto instead.\n",
            "\n"
          ],
          "name": "stderr"
        }
      ]
    },
    {
      "cell_type": "code",
      "metadata": {
        "id": "cqxL6wAg3LJR",
        "colab_type": "code",
        "colab": {}
      },
      "source": [
        "layer_name_model = 'fc2'\n",
        "\n",
        "model = VGG16(weights='imagenet', include_top=True)\n",
        "out = model.get_layer(layer_name_model).output\n",
        "model_new = Model(model.input, out)"
      ],
      "execution_count": 0,
      "outputs": []
    },
    {
      "cell_type": "code",
      "metadata": {
        "id": "AXq1sqyTFk78",
        "colab_type": "code",
        "colab": {}
      },
      "source": [
        "X_new_features_train, X_old_features_train = extract_features(X_train, vgg_model_new)\n",
        "X_new_pca_train, A_new, Xm_new, X_old_pca_train, A_old, Xm_old = pca_transform(X_new_features_train, X_old_features_train)"
      ],
      "execution_count": 0,
      "outputs": []
    },
    {
      "cell_type": "code",
      "metadata": {
        "id": "dX6xAm72FrHh",
        "colab_type": "code",
        "colab": {}
      },
      "source": [
        "X_new_features_val, X_old_features_val = extract_features(X_val, vgg_model_new)\n",
        "\n",
        "X_new_pca_val = np.matmul(X_new_features_val - Xm_new, A_new)\n",
        "X_old_pca_val = np.matmul(X_old_features_val - Xm_old, A_old)"
      ],
      "execution_count": 0,
      "outputs": []
    },
    {
      "cell_type": "code",
      "metadata": {
        "id": "Zzte-AWp39lz",
        "colab_type": "code",
        "colab": {}
      },
      "source": [
        "X_features_train = np.hstack((X_new_pca_train, X_old_pca_train))\n",
        "X_features_val = np.hstack((X_new_pca_val, X_old_pca_val))\n",
        "\n",
        "X_features_train.shape, X_features_val.shape"
      ],
      "execution_count": 0,
      "outputs": []
    },
    {
      "cell_type": "code",
      "metadata": {
        "id": "MXWefs-qHGGm",
        "colab_type": "code",
        "colab": {}
      },
      "source": [
        "y_train = np.array([1] * (X_features_train.shape[0] // 2) + [0] * (X_features_train.shape[0] // 2))\n",
        "y_val = np.array([1] * (X_features_val.shape[0] // 2) + [0] * (X_features_val.shape[0] // 2))\n",
        "y_train.shape,  y_val.shape"
      ],
      "execution_count": 0,
      "outputs": []
    },
    {
      "cell_type": "markdown",
      "metadata": {
        "id": "fqnFAa1D4SUj",
        "colab_type": "text"
      },
      "source": [
        "# Model"
      ]
    },
    {
      "cell_type": "code",
      "metadata": {
        "id": "ljwEfghA4N0S",
        "colab_type": "code",
        "outputId": "57cbd4b4-d58e-4d01-f5cf-cd0c51b2ea07",
        "colab": {
          "base_uri": "https://localhost:8080/",
          "height": 131
        }
      },
      "source": [
        "#clf = SVC(gamma='auto')\n",
        "clf = MLPClassifier(hidden_layer_sizes=(100, 50))\n",
        "clf.fit(X_features_train, y_train) "
      ],
      "execution_count": 17,
      "outputs": [
        {
          "output_type": "execute_result",
          "data": {
            "text/plain": [
              "MLPClassifier(activation='relu', alpha=0.0001, batch_size='auto', beta_1=0.9,\n",
              "              beta_2=0.999, early_stopping=False, epsilon=1e-08,\n",
              "              hidden_layer_sizes=(100, 50), learning_rate='constant',\n",
              "              learning_rate_init=0.001, max_iter=200, momentum=0.9,\n",
              "              n_iter_no_change=10, nesterovs_momentum=True, power_t=0.5,\n",
              "              random_state=None, shuffle=True, solver='adam', tol=0.0001,\n",
              "              validation_fraction=0.1, verbose=False, warm_start=False)"
            ]
          },
          "metadata": {
            "tags": []
          },
          "execution_count": 17
        }
      ]
    },
    {
      "cell_type": "code",
      "metadata": {
        "id": "mKF-RYtR4Ot-",
        "colab_type": "code",
        "outputId": "792a95d4-2ffb-4acb-9131-6e46e6202abd",
        "colab": {
          "base_uri": "https://localhost:8080/",
          "height": 33
        }
      },
      "source": [
        "clf.score(X_features_val, y_val)"
      ],
      "execution_count": 18,
      "outputs": [
        {
          "output_type": "execute_result",
          "data": {
            "text/plain": [
              "0.46"
            ]
          },
          "metadata": {
            "tags": []
          },
          "execution_count": 18
        }
      ]
    },
    {
      "cell_type": "code",
      "metadata": {
        "id": "nZVsxYS-4X7G",
        "colab_type": "code",
        "outputId": "5e0b5dc9-d834-4d3b-af3b-1010112499f4",
        "colab": {
          "base_uri": "https://localhost:8080/",
          "height": 163
        }
      },
      "source": [
        "y_pred = clf.predict(X_features_val)\n",
        "y_true = y_val\n",
        "\n",
        "print(classification_report(y_true, y_pred))"
      ],
      "execution_count": 19,
      "outputs": [
        {
          "output_type": "stream",
          "text": [
            "              precision    recall  f1-score   support\n",
            "\n",
            "           0       0.47      0.57      0.51       175\n",
            "           1       0.45      0.35      0.39       175\n",
            "\n",
            "    accuracy                           0.46       350\n",
            "   macro avg       0.46      0.46      0.45       350\n",
            "weighted avg       0.46      0.46      0.45       350\n",
            "\n"
          ],
          "name": "stdout"
        }
      ]
    },
    {
      "cell_type": "markdown",
      "metadata": {
        "id": "M8EW81-76Plu",
        "colab_type": "text"
      },
      "source": [
        "# Test"
      ]
    },
    {
      "cell_type": "code",
      "metadata": {
        "id": "YBIs983w61t-",
        "colab_type": "code",
        "colab": {}
      },
      "source": [
        "!unzip drive/My\\ Drive/proyecto_patrones/testing_split.zip"
      ],
      "execution_count": 0,
      "outputs": []
    },
    {
      "cell_type": "code",
      "metadata": {
        "id": "he9GUC7f42MT",
        "colab_type": "code",
        "colab": {}
      },
      "source": [
        "pos_imgs = os.listdir('testing_split/pos')\n",
        "pos_imgs.sort()\n",
        "\n",
        "neg_imgs = os.listdir('testing_split/neg')\n",
        "neg_imgs.sort()\n",
        "\n",
        "pos_X = load_data('testing_split/pos', pos_imgs)\n",
        "neg_X = load_data('testing_split/neg', neg_imgs)"
      ],
      "execution_count": 0,
      "outputs": []
    },
    {
      "cell_type": "code",
      "metadata": {
        "id": "PkwH-CumKWRg",
        "colab_type": "code",
        "outputId": "84f505de-e110-4675-eec4-cd38eee4a440",
        "colab": {
          "base_uri": "https://localhost:8080/",
          "height": 33
        }
      },
      "source": [
        "X_test = build_dataset(pos_X, neg_X)\n",
        "X_test.shape"
      ],
      "execution_count": 14,
      "outputs": [
        {
          "output_type": "execute_result",
          "data": {
            "text/plain": [
              "(944, 2, 224, 224, 3)"
            ]
          },
          "metadata": {
            "tags": []
          },
          "execution_count": 14
        }
      ]
    },
    {
      "cell_type": "code",
      "metadata": {
        "id": "1KYLoo_pKkWh",
        "colab_type": "code",
        "outputId": "dc1fb24e-c7ec-4cce-b000-366192192093",
        "colab": {
          "base_uri": "https://localhost:8080/",
          "height": 50
        }
      },
      "source": [
        "X_new_features_test, X_old_features_test = extract_features(X_test, vgg_model_new)\n",
        "\n",
        "#X_new_pca_test = np.matmul(X_new_features_test - Xm_new, A_new)\n",
        "#X_old_pca_test = np.matmul(X_old_features_test - Xm_old, A_old)"
      ],
      "execution_count": 15,
      "outputs": [
        {
          "output_type": "stream",
          "text": [
            "944/944 [==============================] - 13s 14ms/step\n",
            "944/944 [==============================] - 4s 5ms/step\n"
          ],
          "name": "stdout"
        }
      ]
    },
    {
      "cell_type": "code",
      "metadata": {
        "id": "6Z-xCMi-vmIc",
        "colab_type": "code",
        "colab": {}
      },
      "source": [
        "def get_matrix(X_new, X_old, estimator):\n",
        "    matrix = np.zeros((X_new.shape[0], X_old.shape[0]))\n",
        "    for i in range(X_new.shape[0]):\n",
        "        for j in range(X_old.shape[0]):\n",
        "            matrix[i][j] = np.array([estimator.predict_proba(np.concatenate([X_new[i], X_old[j]]).reshape(1, -1))[0][1]]).reshape(1, -1)\n",
        "    return matrix"
      ],
      "execution_count": 0,
      "outputs": []
    },
    {
      "cell_type": "code",
      "metadata": {
        "id": "tNaM4GGizx0L",
        "colab_type": "code",
        "colab": {}
      },
      "source": [
        "from sklearn.preprocessing import normalize\n",
        "\n",
        "\n",
        "X_new_features_test_pos = X_new_features_test[:X_new_features_test.shape[0]//2]\n",
        "X_old_features_test_pos = X_old_features_test[:X_old_features_test.shape[0]//2]\n",
        "\n",
        "X_old_norm = normalize(X_old_features_test_pos, norm='l1', axis=1, copy=True, return_norm=False)\n",
        "X_new_norm = normalize(X_new_features_test_pos, norm='l1', axis=1, copy=True, return_norm=False)"
      ],
      "execution_count": 0,
      "outputs": []
    },
    {
      "cell_type": "code",
      "metadata": {
        "id": "xrLKT7ZIzxos",
        "colab_type": "code",
        "colab": {}
      },
      "source": [
        "from sklearn.metrics.pairwise import cosine_similarity\n",
        "\n",
        "SS = cosine_similarity(X_old_norm, X_new_norm)"
      ],
      "execution_count": 0,
      "outputs": []
    },
    {
      "cell_type": "code",
      "metadata": {
        "id": "6FQfht3gzxm4",
        "colab_type": "code",
        "colab": {
          "base_uri": "https://localhost:8080/",
          "height": 33
        },
        "outputId": "fe24ff42-f64f-4742-f012-e64e6dad8d7e"
      },
      "source": [
        "diagonal = SS.diagonal()\n",
        "non_diagonal = SS[np.where(~np.eye(SS.shape[0],dtype=bool))]\n",
        "\n",
        "diagonal.shape, non_diagonal.shape"
      ],
      "execution_count": 19,
      "outputs": [
        {
          "output_type": "execute_result",
          "data": {
            "text/plain": [
              "((472,), (222312,))"
            ]
          },
          "metadata": {
            "tags": []
          },
          "execution_count": 19
        }
      ]
    },
    {
      "cell_type": "code",
      "metadata": {
        "id": "Vzq21vRAzxf0",
        "colab_type": "code",
        "colab": {
          "base_uri": "https://localhost:8080/",
          "height": 33
        },
        "outputId": "82327f3f-49f2-4e6b-fc44-e197f0d1e8bb"
      },
      "source": [
        "import math\n",
        "\n",
        "mu_1, sigma_1 = np.mean(diagonal), np.std(diagonal)\n",
        "mu_2, sigma_2 = np.mean(non_diagonal), np.std(non_diagonal)\n",
        "\n",
        "d = math.fabs(mu_2 - mu_1) / math.sqrt((sigma_1**2 + sigma_2**2) / 2)\n",
        "d"
      ],
      "execution_count": 20,
      "outputs": [
        {
          "output_type": "execute_result",
          "data": {
            "text/plain": [
              "1.6386385113671909"
            ]
          },
          "metadata": {
            "tags": []
          },
          "execution_count": 20
        }
      ]
    },
    {
      "cell_type": "code",
      "metadata": {
        "id": "o5FkRF6ZzxcF",
        "colab_type": "code",
        "colab": {
          "base_uri": "https://localhost:8080/",
          "height": 337
        },
        "outputId": "4fc5d4e4-7890-4ae0-d5fe-78606dc32ff6"
      },
      "source": [
        "import matplotlib.pyplot as plt \n",
        "\n",
        "plt.figure(figsize=(10,5))\n",
        "plt.hist(diagonal, 100, label='genuine', histtype='step', density=True, color='green', stacked=True)\n",
        "plt.hist(non_diagonal, 100, label='impostor', histtype='step', density=True, color='red', stacked=True)\n",
        "plt.legend()\n",
        "plt.xlabel('Similarity')\n",
        "plt.ylabel('Frequency')\n",
        "plt.savefig('feats_ignacio.png', dpi=300, pad_inches=0.1, bbox_inches='tight')\n",
        "plt.show()"
      ],
      "execution_count": 21,
      "outputs": [
        {
          "output_type": "display_data",
          "data": {
            "image/png": "[encoded data removed]",
            "text/plain": [
              "<Figure size 720x360 with 1 Axes>"
            ]
          },
          "metadata": {
            "tags": []
          }
        }
      ]
    },
    {
      "cell_type": "markdown",
      "metadata": {
        "id": "PrZbW8Wr4ihK",
        "colab_type": "text"
      },
      "source": [
        "### Modelo"
      ]
    },
    {
      "cell_type": "code",
      "metadata": {
        "id": "JYpltWUr4rRS",
        "colab_type": "code",
        "colab": {}
      },
      "source": [
        "def cos_model(X_old_norm, X_new_norm):\n",
        "    pred = []\n",
        "    for i in range(X_old_norm.shape[0]):\n",
        "        pred.append( cosine_similarity(np.array([X_old_norm[i], X_new_norm[i]]))[0][1] )\n",
        "    pred = np.array(pred)\n",
        "    \n",
        "    pred[pred >= 0.75] = 1\n",
        "    pred[pred < 0.75] = 0\n",
        "    return pred"
      ],
      "execution_count": 0,
      "outputs": []
    },
    {
      "cell_type": "code",
      "metadata": {
        "id": "FkuDURH343vo",
        "colab_type": "code",
        "colab": {}
      },
      "source": [
        "y_pred = cos_model(X_new_features_test, X_old_features_test)"
      ],
      "execution_count": 0,
      "outputs": []
    },
    {
      "cell_type": "code",
      "metadata": {
        "id": "x1io-DVe3IqK",
        "colab_type": "code",
        "colab": {
          "base_uri": "https://localhost:8080/",
          "height": 33
        },
        "outputId": "eed4e37f-baef-4271-b5e9-7f4365dbf218"
      },
      "source": [
        "y_test = np.array([1] * 472 + [0] * 472 )\n",
        "y_test.shape"
      ],
      "execution_count": 33,
      "outputs": [
        {
          "output_type": "execute_result",
          "data": {
            "text/plain": [
              "(944,)"
            ]
          },
          "metadata": {
            "tags": []
          },
          "execution_count": 33
        }
      ]
    },
    {
      "cell_type": "code",
      "metadata": {
        "id": "NbG_-1mV3dzu",
        "colab_type": "code",
        "colab": {
          "base_uri": "https://localhost:8080/",
          "height": 163
        },
        "outputId": "489f8112-b60d-471f-b886-27a5e60272f0"
      },
      "source": [
        "print(classification_report(y_test, y_pred))"
      ],
      "execution_count": 34,
      "outputs": [
        {
          "output_type": "stream",
          "text": [
            "              precision    recall  f1-score   support\n",
            "\n",
            "           0       0.77      0.83      0.80       472\n",
            "           1       0.82      0.76      0.79       472\n",
            "\n",
            "    accuracy                           0.79       944\n",
            "   macro avg       0.80      0.79      0.79       944\n",
            "weighted avg       0.80      0.79      0.79       944\n",
            "\n"
          ],
          "name": "stdout"
        }
      ]
    },
    {
      "cell_type": "code",
      "metadata": {
        "id": "SbGqJxVi5y91",
        "colab_type": "code",
        "colab": {}
      },
      "source": [
        ""
      ],
      "execution_count": 0,
      "outputs": []
    },
    {
      "cell_type": "code",
      "metadata": {
        "id": "a5k1Npmn5y2S",
        "colab_type": "code",
        "colab": {}
      },
      "source": [
        ""
      ],
      "execution_count": 0,
      "outputs": []
    },
    {
      "cell_type": "code",
      "metadata": {
        "id": "xLSrZ9cQaK2j",
        "colab_type": "code",
        "colab": {}
      },
      "source": [
        "np.save('new_features_test.npy', X_new_features_test)\n",
        "np.save('old_features_test.npy', X_old_features_test)"
      ],
      "execution_count": 0,
      "outputs": []
    },
    {
      "cell_type": "code",
      "metadata": {
        "id": "DA3Czhix4Ih6",
        "colab_type": "code",
        "colab": {}
      },
      "source": [
        ""
      ],
      "execution_count": 0,
      "outputs": []
    },
    {
      "cell_type": "code",
      "metadata": {
        "id": "zH3kcN4c4Ifd",
        "colab_type": "code",
        "colab": {}
      },
      "source": [
        ""
      ],
      "execution_count": 0,
      "outputs": []
    },
    {
      "cell_type": "code",
      "metadata": {
        "id": "6m6NkY2l4Icq",
        "colab_type": "code",
        "colab": {}
      },
      "source": [
        ""
      ],
      "execution_count": 0,
      "outputs": []
    },
    {
      "cell_type": "code",
      "metadata": {
        "id": "y3Qwnduq4Iaa",
        "colab_type": "code",
        "colab": {}
      },
      "source": [
        ""
      ],
      "execution_count": 0,
      "outputs": []
    },
    {
      "cell_type": "code",
      "metadata": {
        "id": "jUwV3aga4IYZ",
        "colab_type": "code",
        "colab": {}
      },
      "source": [
        ""
      ],
      "execution_count": 0,
      "outputs": []
    },
    {
      "cell_type": "code",
      "metadata": {
        "id": "DxrVLeZN4IVv",
        "colab_type": "code",
        "colab": {}
      },
      "source": [
        ""
      ],
      "execution_count": 0,
      "outputs": []
    },
    {
      "cell_type": "code",
      "metadata": {
        "id": "pEiSQvZ34ITN",
        "colab_type": "code",
        "colab": {}
      },
      "source": [
        ""
      ],
      "execution_count": 0,
      "outputs": []
    },
    {
      "cell_type": "code",
      "metadata": {
        "id": "o6yKDFDi76q0",
        "colab_type": "code",
        "outputId": "57b8b881-eb9b-48fb-8654-1f4d436cf311",
        "colab": {
          "base_uri": "https://localhost:8080/",
          "height": 33
        }
      },
      "source": [
        "X_features_test = np.hstack((X_new_pca_test, X_old_pca_test))\n",
        "X_features_test.shape"
      ],
      "execution_count": 0,
      "outputs": [
        {
          "output_type": "execute_result",
          "data": {
            "text/plain": [
              "(944, 20)"
            ]
          },
          "metadata": {
            "tags": []
          },
          "execution_count": 67
        }
      ]
    },
    {
      "cell_type": "code",
      "metadata": {
        "id": "71ow31CZK6PO",
        "colab_type": "code",
        "outputId": "34bae494-eec7-4549-9387-2ddefc05f1f9",
        "colab": {
          "base_uri": "https://localhost:8080/",
          "height": 33
        }
      },
      "source": [
        "y_test = np.array([1] * (X_features_test.shape[0] // 2) + [0] * (X_features_test.shape[0] // 2))\n",
        "y_test.shape"
      ],
      "execution_count": 0,
      "outputs": [
        {
          "output_type": "execute_result",
          "data": {
            "text/plain": [
              "(944,)"
            ]
          },
          "metadata": {
            "tags": []
          },
          "execution_count": 68
        }
      ]
    },
    {
      "cell_type": "code",
      "metadata": {
        "id": "elPqWVed7-xD",
        "colab_type": "code",
        "outputId": "e11f3a15-873c-4679-8460-fac60c135432",
        "colab": {
          "base_uri": "https://localhost:8080/",
          "height": 33
        }
      },
      "source": [
        "clf.score(X_features_test, y_test)"
      ],
      "execution_count": 0,
      "outputs": [
        {
          "output_type": "execute_result",
          "data": {
            "text/plain": [
              "0.5095338983050848"
            ]
          },
          "metadata": {
            "tags": []
          },
          "execution_count": 69
        }
      ]
    },
    {
      "cell_type": "code",
      "metadata": {
        "id": "tQijc56i8Kdw",
        "colab_type": "code",
        "outputId": "e603477f-b2f6-42c4-b122-d1dc2abd6d0d",
        "colab": {
          "base_uri": "https://localhost:8080/",
          "height": 163
        }
      },
      "source": [
        "y_pred = clf.predict(X_features_test)\n",
        "y_true = y_test\n",
        "\n",
        "print(classification_report(y_true, y_pred))"
      ],
      "execution_count": 0,
      "outputs": [
        {
          "output_type": "stream",
          "text": [
            "              precision    recall  f1-score   support\n",
            "\n",
            "           0       0.51      0.57      0.54       472\n",
            "           1       0.51      0.45      0.48       472\n",
            "\n",
            "    accuracy                           0.51       944\n",
            "   macro avg       0.51      0.51      0.51       944\n",
            "weighted avg       0.51      0.51      0.51       944\n",
            "\n"
          ],
          "name": "stdout"
        }
      ]
    },
    {
      "cell_type": "code",
      "metadata": {
        "id": "3sUS8KEn8LGO",
        "colab_type": "code",
        "colab": {}
      },
      "source": [
        ""
      ],
      "execution_count": 0,
      "outputs": []
    }
  ]
}