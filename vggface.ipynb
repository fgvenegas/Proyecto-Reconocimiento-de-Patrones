{
  "nbformat": 4,
  "nbformat_minor": 0,
  "metadata": {
    "colab": {
      "name": "proyecto.ipynb",
      "version": "0.3.2",
      "provenance": [],
      "collapsed_sections": []
    },
    "kernelspec": {
      "name": "python3",
      "display_name": "Python 3"
    },
    "accelerator": "GPU"
  },
  "cells": [
    {
      "cell_type": "code",
      "metadata": {
        "id": "mPdQmK-z2mVD",
        "colab_type": "code",
        "outputId": "deef44b4-8afd-4b7f-8357-ef1e7d2a3ab9",
        "colab": {
          "base_uri": "https://localhost:8080/",
          "height": 33
        }
      },
      "source": [
        "from google.colab import drive\n",
        "drive.mount('/content/drive')"
      ],
      "execution_count": 0,
      "outputs": [
        {
          "output_type": "stream",
          "text": [
            "Drive already mounted at /content/drive; to attempt to forcibly remount, call drive.mount(\"/content/drive\", force_remount=True).\n"
          ],
          "name": "stdout"
        }
      ]
    },
    {
      "cell_type": "code",
      "metadata": {
        "id": "Rjwx_i8q2piA",
        "colab_type": "code",
        "outputId": "6d7c2c2d-6d9b-48d7-b1f7-9a54c6c8a9fa",
        "colab": {
          "base_uri": "https://localhost:8080/",
          "height": 66
        }
      },
      "source": [
        "!ls drive/My\\ Drive/proyecto_patrones/"
      ],
      "execution_count": 0,
      "outputs": [
        {
          "output_type": "stream",
          "text": [
            "denoised_testing   MetaData.npy    testing\t      training_split.zip\n",
            "denoised_training  proyecto.ipynb  testing_split.zip  Untitled0.ipynb\n",
            "MetaData.mat\t   readme.txt\t   training\n"
          ],
          "name": "stdout"
        }
      ]
    },
    {
      "cell_type": "code",
      "metadata": {
        "id": "A-ZzMhGy2sUh",
        "colab_type": "code",
        "colab": {}
      },
      "source": [
        "!unzip drive/My\\ Drive/proyecto_patrones/training_split"
      ],
      "execution_count": 0,
      "outputs": []
    },
    {
      "cell_type": "code",
      "metadata": {
        "id": "e5kOFbDg28F7",
        "colab_type": "code",
        "outputId": "a77d6066-e997-4314-ad87-d91c8016ca47",
        "colab": {
          "base_uri": "https://localhost:8080/",
          "height": 33
        }
      },
      "source": [
        "from keras.models import Sequential, Model\n",
        "from keras.layers import Dense, Activation, Conv2D, Input, Dropout, Flatten, BatchNormalization, Activation, ZeroPadding2D\n",
        "from keras.layers.advanced_activations import LeakyReLU\n",
        "from pybalu.feature_transformation import pca, normalize\n",
        "from sklearn.model_selection import train_test_split \n",
        "from sklearn.svm import SVC\n",
        "from sklearn.neural_network import MLPClassifier\n",
        "from sklearn.metrics import classification_report\n",
        "from keras.applications.resnet50 import ResNet50\n",
        "from keras.applications.vgg16 import VGG16\n",
        "from sklearn.preprocessing import MinMaxScaler\n",
        "\n",
        "import os\n",
        "import numpy as np\n",
        "import cv2\n",
        "from google.colab.patches import cv2_imshow"
      ],
      "execution_count": 0,
      "outputs": [
        {
          "output_type": "stream",
          "text": [
            "Using TensorFlow backend.\n"
          ],
          "name": "stderr"
        }
      ]
    },
    {
      "cell_type": "markdown",
      "metadata": {
        "id": "isEs6DTO26xe",
        "colab_type": "text"
      },
      "source": [
        "# Data"
      ]
    },
    {
      "cell_type": "code",
      "metadata": {
        "id": "QFAzVNb83Hv4",
        "colab_type": "code",
        "colab": {}
      },
      "source": [
        "def load_data(path, imgs):\n",
        "  data = []\n",
        "  for img in imgs:\n",
        "    img_loaded = cv2.imread(path + '/' + img)\n",
        "    img_loaded = cv2.resize(img_loaded, (224, 224))\n",
        "    data.append(img_loaded)\n",
        "  data = np.array(data)\n",
        "  return data\n",
        "\n",
        "\n",
        "\n",
        "\n",
        "def flip_img(imgs):\n",
        "  flipped = []\n",
        "  for img in imgs:\n",
        "    flipped.append(img[:, ::-1])\n",
        "  flipped = np.array(flipped)\n",
        "  \n",
        "  return np.vstack((imgs, flipped))"
      ],
      "execution_count": 0,
      "outputs": []
    },
    {
      "cell_type": "code",
      "metadata": {
        "id": "a1QtEGEuDWlG",
        "colab_type": "code",
        "colab": {}
      },
      "source": [
        "def build_dataset(pos_X, neg_X):\n",
        "  pos_neg_X = np.vstack((pos_X, neg_X))\n",
        "  X = []\n",
        "  for img in range(0, len(pos_neg_X), 2):\n",
        "    X.append(np.array([pos_neg_X[img], pos_neg_X[img + 1]]))\n",
        "  X = np.array(X)\n",
        "  return X\n",
        "\n",
        "def extract_features(X, model):\n",
        "  old = X[:, 0, :, :]\n",
        "  new = X[:, 1, :, :]\n",
        "\n",
        "  features_old = model.predict(old, verbose=1, batch_size=256)\n",
        "  features_new = model.predict(new, verbose=1, batch_size=256)\n",
        "  \n",
        "  return features_old, features_new\n",
        "\n",
        "def pca_transform(features_new, features_old):\n",
        "  X_new_pca, _, A_new, Xm_new, _ = pca(features_new, n_components=10)\n",
        "  X_old_pca, _, A_old, Xm_old, _ = pca(features_old, n_components=10)\n",
        "  \n",
        "  return X_new_pca, A_new, Xm_new, X_old_pca, A_old, Xm_old"
      ],
      "execution_count": 0,
      "outputs": []
    },
    {
      "cell_type": "code",
      "metadata": {
        "id": "jhsj28-v3I0y",
        "colab_type": "code",
        "colab": {}
      },
      "source": [
        "pos_imgs = os.listdir('training_split/pos')\n",
        "pos_imgs.sort()\n",
        "\n",
        "neg_imgs = os.listdir('training_split/neg')\n",
        "neg_imgs.sort()\n",
        "\n",
        "pos_X = load_data('training_split/pos', pos_imgs)\n",
        "neg_X = load_data('training_split/neg', neg_imgs)\n",
        "\n",
        "\n",
        "y_pos = np.array([1] * (pos_X.shape[0]))\n",
        "y_neg = np.array([0] * (neg_X.shape[0]))"
      ],
      "execution_count": 0,
      "outputs": []
    },
    {
      "cell_type": "code",
      "metadata": {
        "id": "0lQkaLDMEfMp",
        "colab_type": "code",
        "colab": {}
      },
      "source": [
        "X_train_pos, X_val_pos, y_train_pos, y_val_pos = train_test_split(pos_X, y_pos, test_size=0.1, shuffle=True)\n",
        "X_train_neg, X_val_neg, y_train_neg, y_val_neg = train_test_split(neg_X, y_neg, test_size=0.1, shuffle=True)"
      ],
      "execution_count": 0,
      "outputs": []
    },
    {
      "cell_type": "code",
      "metadata": {
        "id": "d__cyb_YMg5x",
        "colab_type": "code",
        "colab": {}
      },
      "source": [
        "X_train_pos = flip_img(X_train_pos)\n",
        "X_train_neg = flip_img(X_train_neg)"
      ],
      "execution_count": 0,
      "outputs": []
    },
    {
      "cell_type": "code",
      "metadata": {
        "id": "wrSvF4mZFOlP",
        "colab_type": "code",
        "outputId": "f68d7751-7fb7-456a-e494-2978341e3d89",
        "colab": {
          "base_uri": "https://localhost:8080/",
          "height": 33
        }
      },
      "source": [
        "X_train = build_dataset(X_train_pos, X_train_neg)\n",
        "X_val = build_dataset(X_val_pos, X_val_neg)\n",
        "\n",
        "X_train.shape, X_val.shape"
      ],
      "execution_count": 0,
      "outputs": [
        {
          "output_type": "execute_result",
          "data": {
            "text/plain": [
              "((6300, 2, 224, 224, 3), (350, 2, 224, 224, 3))"
            ]
          },
          "metadata": {
            "tags": []
          },
          "execution_count": 8
        }
      ]
    },
    {
      "cell_type": "markdown",
      "metadata": {
        "id": "cmB98dnd3cNx",
        "colab_type": "text"
      },
      "source": [
        "# Feature"
      ]
    },
    {
      "cell_type": "code",
      "metadata": {
        "id": "SjnvfsjJNnzM",
        "colab_type": "code",
        "outputId": "a3c6dd1c-bcb6-4394-9259-6c38cb109d69",
        "colab": {
          "base_uri": "https://localhost:8080/",
          "height": 248
        }
      },
      "source": [
        "from keras_vggface.vggface import VGGFace\n",
        "\n",
        "layer_name_vggface = 'fc7'\n",
        "\n",
        "vgg_model = VGGFace(input_shape=(224, 224, 3))\n",
        "out = vgg_model.get_layer(layer_name_vggface).output\n",
        "vgg_model_new = Model(vgg_model.input, out)"
      ],
      "execution_count": 0,
      "outputs": [
        {
          "output_type": "stream",
          "text": [
            "WARNING: Logging before flag parsing goes to stderr.\n",
            "W0616 03:47:00.975154 140347530438528 deprecation_wrapper.py:119] From /usr/local/lib/python3.6/dist-packages/keras/backend/tensorflow_backend.py:74: The name tf.get_default_graph is deprecated. Please use tf.compat.v1.get_default_graph instead.\n",
            "\n",
            "W0616 03:47:00.999501 140347530438528 deprecation_wrapper.py:119] From /usr/local/lib/python3.6/dist-packages/keras/backend/tensorflow_backend.py:517: The name tf.placeholder is deprecated. Please use tf.compat.v1.placeholder instead.\n",
            "\n",
            "W0616 03:47:01.008525 140347530438528 deprecation_wrapper.py:119] From /usr/local/lib/python3.6/dist-packages/keras/backend/tensorflow_backend.py:4138: The name tf.random_uniform is deprecated. Please use tf.random.uniform instead.\n",
            "\n",
            "W0616 03:47:01.047794 140347530438528 deprecation_wrapper.py:119] From /usr/local/lib/python3.6/dist-packages/keras/backend/tensorflow_backend.py:3976: The name tf.nn.max_pool is deprecated. Please use tf.nn.max_pool2d instead.\n",
            "\n",
            "W0616 03:47:04.640244 140347530438528 deprecation_wrapper.py:119] From /usr/local/lib/python3.6/dist-packages/keras/backend/tensorflow_backend.py:174: The name tf.get_default_session is deprecated. Please use tf.compat.v1.get_default_session instead.\n",
            "\n",
            "W0616 03:47:04.641492 140347530438528 deprecation_wrapper.py:119] From /usr/local/lib/python3.6/dist-packages/keras/backend/tensorflow_backend.py:181: The name tf.ConfigProto is deprecated. Please use tf.compat.v1.ConfigProto instead.\n",
            "\n"
          ],
          "name": "stderr"
        }
      ]
    },
    {
      "cell_type": "code",
      "metadata": {
        "id": "cqxL6wAg3LJR",
        "colab_type": "code",
        "colab": {}
      },
      "source": [
        "layer_name_model = 'fc2'\n",
        "\n",
        "model = VGG16(weights='imagenet', include_top=True)\n",
        "out = model.get_layer(layer_name_model).output\n",
        "model_new = Model(model.input, out)"
      ],
      "execution_count": 0,
      "outputs": []
    },
    {
      "cell_type": "code",
      "metadata": {
        "id": "AXq1sqyTFk78",
        "colab_type": "code",
        "outputId": "878dab91-b42c-4d7e-9942-7e2521d7e2e0",
        "colab": {
          "base_uri": "https://localhost:8080/",
          "height": 50
        }
      },
      "source": [
        "X_new_features_train, X_old_features_train = extract_features(X_train, vgg_model_new)\n",
        "X_new_pca_train, A_new, Xm_new, X_old_pca_train, A_old, Xm_old = pca_transform(X_new_features_train, X_old_features_train)"
      ],
      "execution_count": 0,
      "outputs": [
        {
          "output_type": "stream",
          "text": [
            "6300/6300 [==============================] - 53s 8ms/step\n",
            "6300/6300 [==============================] - 31s 5ms/step\n"
          ],
          "name": "stdout"
        }
      ]
    },
    {
      "cell_type": "code",
      "metadata": {
        "id": "dX6xAm72FrHh",
        "colab_type": "code",
        "outputId": "cb439990-5897-4020-928b-add879a7164d",
        "colab": {
          "base_uri": "https://localhost:8080/",
          "height": 50
        }
      },
      "source": [
        "X_new_features_val, X_old_features_val = extract_features(X_val, vgg_model_new)\n",
        "\n",
        "X_new_pca_val = np.matmul(X_new_features_val - Xm_new, A_new)\n",
        "X_old_pca_val = np.matmul(X_old_features_val - Xm_old, A_old)"
      ],
      "execution_count": 0,
      "outputs": [
        {
          "output_type": "stream",
          "text": [
            "350/350 [==============================] - 7s 21ms/step\n",
            "350/350 [==============================] - 2s 5ms/step\n"
          ],
          "name": "stdout"
        }
      ]
    },
    {
      "cell_type": "code",
      "metadata": {
        "id": "Zzte-AWp39lz",
        "colab_type": "code",
        "outputId": "615501fe-3ae3-425d-94a6-0604cb344788",
        "colab": {
          "base_uri": "https://localhost:8080/",
          "height": 33
        }
      },
      "source": [
        "X_features_train = np.hstack((X_new_pca_train, X_old_pca_train))\n",
        "X_features_val = np.hstack((X_new_pca_val, X_old_pca_val))\n",
        "\n",
        "X_features_train.shape, X_features_val.shape"
      ],
      "execution_count": 0,
      "outputs": [
        {
          "output_type": "execute_result",
          "data": {
            "text/plain": [
              "((6300, 20), (350, 20))"
            ]
          },
          "metadata": {
            "tags": []
          },
          "execution_count": 13
        }
      ]
    },
    {
      "cell_type": "code",
      "metadata": {
        "id": "MXWefs-qHGGm",
        "colab_type": "code",
        "outputId": "ca8fc02b-baed-4adc-ae34-47c2eb7c434d",
        "colab": {
          "base_uri": "https://localhost:8080/",
          "height": 33
        }
      },
      "source": [
        "y_train = np.array([1] * (X_features_train.shape[0] // 2) + [0] * (X_features_train.shape[0] // 2))\n",
        "y_val = np.array([1] * (X_features_val.shape[0] // 2) + [0] * (X_features_val.shape[0] // 2))\n",
        "y_train.shape,  y_val.shape"
      ],
      "execution_count": 0,
      "outputs": [
        {
          "output_type": "execute_result",
          "data": {
            "text/plain": [
              "((6300,), (350,))"
            ]
          },
          "metadata": {
            "tags": []
          },
          "execution_count": 14
        }
      ]
    },
    {
      "cell_type": "markdown",
      "metadata": {
        "id": "fqnFAa1D4SUj",
        "colab_type": "text"
      },
      "source": [
        "# Model"
      ]
    },
    {
      "cell_type": "code",
      "metadata": {
        "id": "ljwEfghA4N0S",
        "colab_type": "code",
        "outputId": "402f6811-8b9b-4e66-d95e-3e1f4db52de8",
        "colab": {
          "base_uri": "https://localhost:8080/",
          "height": 131
        }
      },
      "source": [
        "#clf = SVC(gamma='auto')\n",
        "clf = MLPClassifier(hidden_layer_sizes=(100, 50))\n",
        "clf.fit(X_features_train, y_train) "
      ],
      "execution_count": 0,
      "outputs": [
        {
          "output_type": "execute_result",
          "data": {
            "text/plain": [
              "MLPClassifier(activation='relu', alpha=0.0001, batch_size='auto', beta_1=0.9,\n",
              "              beta_2=0.999, early_stopping=False, epsilon=1e-08,\n",
              "              hidden_layer_sizes=(100, 50), learning_rate='constant',\n",
              "              learning_rate_init=0.001, max_iter=200, momentum=0.9,\n",
              "              n_iter_no_change=10, nesterovs_momentum=True, power_t=0.5,\n",
              "              random_state=None, shuffle=True, solver='adam', tol=0.0001,\n",
              "              validation_fraction=0.1, verbose=False, warm_start=False)"
            ]
          },
          "metadata": {
            "tags": []
          },
          "execution_count": 20
        }
      ]
    },
    {
      "cell_type": "code",
      "metadata": {
        "id": "mKF-RYtR4Ot-",
        "colab_type": "code",
        "outputId": "b7153ae1-56a8-43f2-f798-0556a8bdc270",
        "colab": {
          "base_uri": "https://localhost:8080/",
          "height": 33
        }
      },
      "source": [
        "clf.score(X_features_val, y_val)"
      ],
      "execution_count": 0,
      "outputs": [
        {
          "output_type": "execute_result",
          "data": {
            "text/plain": [
              "0.5028571428571429"
            ]
          },
          "metadata": {
            "tags": []
          },
          "execution_count": 21
        }
      ]
    },
    {
      "cell_type": "code",
      "metadata": {
        "id": "nZVsxYS-4X7G",
        "colab_type": "code",
        "outputId": "f1308efe-293b-402a-96da-76f34e98a4ec",
        "colab": {
          "base_uri": "https://localhost:8080/",
          "height": 163
        }
      },
      "source": [
        "y_pred = clf.predict(X_features_val)\n",
        "y_true = y_val\n",
        "\n",
        "print(classification_report(y_true, y_pred))"
      ],
      "execution_count": 0,
      "outputs": [
        {
          "output_type": "stream",
          "text": [
            "              precision    recall  f1-score   support\n",
            "\n",
            "           0       0.49      0.58      0.53       175\n",
            "           1       0.48      0.39      0.43       175\n",
            "\n",
            "    accuracy                           0.49       350\n",
            "   macro avg       0.49      0.49      0.48       350\n",
            "weighted avg       0.49      0.49      0.48       350\n",
            "\n"
          ],
          "name": "stdout"
        }
      ]
    },
    {
      "cell_type": "markdown",
      "metadata": {
        "id": "M8EW81-76Plu",
        "colab_type": "text"
      },
      "source": [
        "# Test"
      ]
    },
    {
      "cell_type": "code",
      "metadata": {
        "id": "YBIs983w61t-",
        "colab_type": "code",
        "colab": {}
      },
      "source": [
        "!unzip drive/My\\ Drive/proyecto_patrones/testing_split.zip"
      ],
      "execution_count": 0,
      "outputs": []
    },
    {
      "cell_type": "code",
      "metadata": {
        "id": "he9GUC7f42MT",
        "colab_type": "code",
        "colab": {}
      },
      "source": [
        "pos_imgs = os.listdir('testing_split/pos')\n",
        "pos_imgs.sort()\n",
        "\n",
        "neg_imgs = os.listdir('testing_split/neg')\n",
        "neg_imgs.sort()\n",
        "\n",
        "pos_X = load_data('testing_split/pos', pos_imgs)\n",
        "neg_X = load_data('testing_split/neg', neg_imgs)"
      ],
      "execution_count": 0,
      "outputs": []
    },
    {
      "cell_type": "code",
      "metadata": {
        "id": "PkwH-CumKWRg",
        "colab_type": "code",
        "outputId": "48a7b5dd-13f7-4215-f215-fefea5ee1050",
        "colab": {
          "base_uri": "https://localhost:8080/",
          "height": 33
        }
      },
      "source": [
        "X_test = build_dataset(pos_X, neg_X)\n",
        "X_test.shape"
      ],
      "execution_count": 0,
      "outputs": [
        {
          "output_type": "execute_result",
          "data": {
            "text/plain": [
              "(944, 2, 224, 224, 3)"
            ]
          },
          "metadata": {
            "tags": []
          },
          "execution_count": 65
        }
      ]
    },
    {
      "cell_type": "code",
      "metadata": {
        "id": "1KYLoo_pKkWh",
        "colab_type": "code",
        "outputId": "0640ac22-ae1c-46ef-fd32-c38b767e63e8",
        "colab": {
          "base_uri": "https://localhost:8080/",
          "height": 50
        }
      },
      "source": [
        "X_new_features_test, X_old_features_test = extract_features(X_test, vgg_model_new)\n",
        "\n",
        "X_new_pca_test = np.matmul(X_new_features_test - Xm_new, A_new)\n",
        "X_old_pca_test = np.matmul(X_old_features_test - Xm_old, A_old)"
      ],
      "execution_count": 0,
      "outputs": [
        {
          "output_type": "stream",
          "text": [
            "944/944 [==============================] - 4s 5ms/step\n",
            "944/944 [==============================] - 4s 5ms/step\n"
          ],
          "name": "stdout"
        }
      ]
    },
    {
      "cell_type": "code",
      "metadata": {
        "id": "o6yKDFDi76q0",
        "colab_type": "code",
        "outputId": "57b8b881-eb9b-48fb-8654-1f4d436cf311",
        "colab": {
          "base_uri": "https://localhost:8080/",
          "height": 33
        }
      },
      "source": [
        "X_features_test = np.hstack((X_new_pca_test, X_old_pca_test))\n",
        "X_features_test.shape"
      ],
      "execution_count": 0,
      "outputs": [
        {
          "output_type": "execute_result",
          "data": {
            "text/plain": [
              "(944, 20)"
            ]
          },
          "metadata": {
            "tags": []
          },
          "execution_count": 67
        }
      ]
    },
    {
      "cell_type": "code",
      "metadata": {
        "id": "71ow31CZK6PO",
        "colab_type": "code",
        "outputId": "34bae494-eec7-4549-9387-2ddefc05f1f9",
        "colab": {
          "base_uri": "https://localhost:8080/",
          "height": 33
        }
      },
      "source": [
        "y_test = np.array([1] * (X_features_test.shape[0] // 2) + [0] * (X_features_test.shape[0] // 2))\n",
        "y_test.shape"
      ],
      "execution_count": 0,
      "outputs": [
        {
          "output_type": "execute_result",
          "data": {
            "text/plain": [
              "(944,)"
            ]
          },
          "metadata": {
            "tags": []
          },
          "execution_count": 68
        }
      ]
    },
    {
      "cell_type": "code",
      "metadata": {
        "id": "elPqWVed7-xD",
        "colab_type": "code",
        "outputId": "e11f3a15-873c-4679-8460-fac60c135432",
        "colab": {
          "base_uri": "https://localhost:8080/",
          "height": 33
        }
      },
      "source": [
        "clf.score(X_features_test, y_test)"
      ],
      "execution_count": 0,
      "outputs": [
        {
          "output_type": "execute_result",
          "data": {
            "text/plain": [
              "0.5095338983050848"
            ]
          },
          "metadata": {
            "tags": []
          },
          "execution_count": 69
        }
      ]
    },
    {
      "cell_type": "code",
      "metadata": {
        "id": "tQijc56i8Kdw",
        "colab_type": "code",
        "outputId": "e603477f-b2f6-42c4-b122-d1dc2abd6d0d",
        "colab": {
          "base_uri": "https://localhost:8080/",
          "height": 163
        }
      },
      "source": [
        "y_pred = clf.predict(X_features_test)\n",
        "y_true = y_test\n",
        "\n",
        "print(classification_report(y_true, y_pred))"
      ],
      "execution_count": 0,
      "outputs": [
        {
          "output_type": "stream",
          "text": [
            "              precision    recall  f1-score   support\n",
            "\n",
            "           0       0.51      0.57      0.54       472\n",
            "           1       0.51      0.45      0.48       472\n",
            "\n",
            "    accuracy                           0.51       944\n",
            "   macro avg       0.51      0.51      0.51       944\n",
            "weighted avg       0.51      0.51      0.51       944\n",
            "\n"
          ],
          "name": "stdout"
        }
      ]
    },
    {
      "cell_type": "code",
      "metadata": {
        "id": "3sUS8KEn8LGO",
        "colab_type": "code",
        "colab": {}
      },
      "source": [
        ""
      ],
      "execution_count": 0,
      "outputs": []
    }
  ]
}